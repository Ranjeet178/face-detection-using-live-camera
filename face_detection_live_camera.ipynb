{
 "cells": [
  {
   "cell_type": "code",
   "execution_count": 2,
   "metadata": {},
   "outputs": [],
   "source": [
    "import cv2"
   ]
  },
  {
   "cell_type": "code",
   "execution_count": 2,
   "metadata": {},
   "outputs": [
    {
     "name": "stdout",
     "output_type": "stream",
     "text": [
      "True\n"
     ]
    }
   ],
   "source": [
    "webcam=cv2.VideoCapture(0)#zero means default camera is used\n",
    "#reading frames\n",
    "ret,frame=webcam.read()\n",
    "#checking if frame is capture or not\n",
    "print(ret)\n",
    "\n",
    "#releasing the webcam\n",
    "webcam.release()\n"
   ]
  },
  {
   "cell_type": "code",
   "execution_count": 3,
   "metadata": {},
   "outputs": [],
   "source": [
    "cv2.imshow(\"the captured image\",frame)\n",
    "cv2.waitKey()\n",
    "#releasing all the windows\n",
    "cv2.destroyAllWindows()"
   ]
  },
  {
   "cell_type": "code",
   "execution_count": 3,
   "metadata": {},
   "outputs": [],
   "source": [
    "#for live video capturing\n",
    "webcam=cv2.VideoCapture(0)#zero means default camera is used\n",
    "while(True):\n",
    "    ret,frame=webcam.read()\n",
    "    gray=cv2.cvtColor(frame,cv2.COLOR_BGR2GRAY)\n",
    "    cv2.imshow(\"the captured image\",gray)\n",
    "    if cv2.waitKey(1) & 0xFF==ord('q'):\n",
    "        break\n",
    "webcam.release()\n",
    "cv2.destroyAllWindows()\n",
    "    "
   ]
  },
  {
   "cell_type": "code",
   "execution_count": 5,
   "metadata": {},
   "outputs": [],
   "source": [
    "# Facedetection using an live camera"
   ]
  },
  {
   "cell_type": "code",
   "execution_count": 3,
   "metadata": {},
   "outputs": [],
   "source": [
    "facecascade=cv2.CascadeClassifier('haarcascade_frontalface_default.xml')\n",
    "\n"
   ]
  },
  {
   "cell_type": "code",
   "execution_count": 4,
   "metadata": {},
   "outputs": [],
   "source": [
    "webcam=cv2.VideoCapture(0)#zero means default camera is used\n",
    "while(True):\n",
    "    ret,frame=webcam.read()\n",
    "    gray=cv2.cvtColor(frame,cv2.COLOR_BGR2GRAY)\n",
    "    faces=facecascade.detectMultiScale(gray,scaleFactor=1.2,minNeighbors=5,minSize=(20,20))\n",
    "    for (x,y,w,h) in faces:\n",
    "        cv2.rectangle(frame,(x,y),(x+w,y+h),(255,0,0),2)\n",
    "    cv2.imshow(\"face\",frame)\n",
    "    #cv2.imwrite(\"facedetected\",frame)\n",
    "    if cv2.waitKey(1) & 0xFF==ord('w'):\n",
    "        cv2.imwrite(\"myface.jpg\",frame)\n",
    "    elif cv2.waitKey(1) & 0xFF==ord('q'):\n",
    "        break\n",
    "    else:\n",
    "        pass\n",
    "        \n",
    "webcam.release()\n",
    "cv2.destroyAllWindows()"
   ]
  },
  {
   "cell_type": "code",
   "execution_count": 7,
   "metadata": {},
   "outputs": [],
   "source": [
    "# to capture only a specific region\n",
    "webcam=cv2.VideoCapture(0)#zero means default camera is used\n",
    "while(True):\n",
    "    ret,frame=webcam.read()\n",
    "    gray=cv2.cvtColor(frame,cv2.COLOR_BGR2GRAY)\n",
    "    faces=facecascade.detectMultiScale(gray,scaleFactor=1.2,minNeighbors=5,minSize=(20,20))\n",
    "    for (x,y,w,h) in faces:\n",
    "        cv2.rectangle(frame,(x,y),(x+w,y+h),(255,0,0),2)\n",
    "        roi=frame[y:y+h,x:x+w]\n",
    "    cv2.imshow(\"face\",frame)\n",
    "    #cv2.imwrite(\"facedetected\",frame)\n",
    "    if cv2.waitKey(1) & 0xFF==ord('w'):\n",
    "        cv2.imwrite(\"myface.jpg\",roi)\n",
    "    elif cv2.waitKey(1) & 0xFF==ord('q'):\n",
    "        break\n",
    "    else:\n",
    "        pass\n",
    "        \n",
    "webcam.release()\n",
    "cv2.destroyAllWindows()"
   ]
  }
 ],
 "metadata": {
  "kernelspec": {
   "display_name": "Python 3",
   "language": "python",
   "name": "python3"
  },
  "language_info": {
   "codemirror_mode": {
    "name": "ipython",
    "version": 3
   },
   "file_extension": ".py",
   "mimetype": "text/x-python",
   "name": "python",
   "nbconvert_exporter": "python",
   "pygments_lexer": "ipython3",
   "version": "3.8.3"
  }
 },
 "nbformat": 4,
 "nbformat_minor": 4
}
